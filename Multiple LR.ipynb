{
 "cells": [
  {
   "cell_type": "code",
   "execution_count": 2,
   "id": "da1f5d44-763b-4599-9791-73498c3d7b07",
   "metadata": {},
   "outputs": [],
   "source": [
    "import numpy as np\n",
    "import matplotlib.pyplot as plt\n",
    "from sklearn.datasets import load_diabetes"
   ]
  },
  {
   "cell_type": "code",
   "execution_count": 10,
   "id": "3ee12722-0b03-4309-988b-0cffbf2710cb",
   "metadata": {},
   "outputs": [],
   "source": [
    "X,y = load_diabetes(return_X_y = True)"
   ]
  },
  {
   "cell_type": "code",
   "execution_count": 11,
   "id": "9b924148-b8fe-4d21-a594-bdd048875d69",
   "metadata": {},
   "outputs": [
    {
     "data": {
      "text/plain": [
       "(442, 10)"
      ]
     },
     "execution_count": 11,
     "metadata": {},
     "output_type": "execute_result"
    }
   ],
   "source": [
    "X.shape"
   ]
  },
  {
   "cell_type": "markdown",
   "id": "54823708-e58d-4df5-95da-6912fbaa3fbd",
   "metadata": {},
   "source": [
    "# Mul-LR"
   ]
  },
  {
   "cell_type": "code",
   "execution_count": 12,
   "id": "bf06ee5d-2a51-4d03-86c0-4dd992193421",
   "metadata": {},
   "outputs": [],
   "source": [
    "class Mul_LR:\n",
    "    def __init__(self,learning_rate=0.01,epoch=20):\n",
    "        self.learning_rate = learning_rate\n",
    "        self.epoch = epoch\n",
    "        \n",
    "    def fit(X,y):\n",
    "        self.intercept = 0\n",
    "        self.coef_ = np.ones(X.shape[1])\n",
    "\n",
    "        for i in range(self.epoch):\n",
    "            y_hat = self.intercept + np.dot(X,self.coef_)\n",
    "            intercept_slope = -2*np.mean(y-y_hat)\n",
    "            self.intercept = self.intercept - (self.learning_rate*intercept_slope)\n",
    "\n",
    "            coefficient_slope = -2*np.mean(np.dot((y-y_hat),X))\n",
    "            self.coef_ = self.coef_ - (self.learning_rate*coefficient_slope)\n",
    "        return self.intercept,self.coef\n",
    "\n",
    "    def predict(X):\n",
    "        return self.intercept+np.dot(X,self.coef_)"
   ]
  },
  {
   "cell_type": "code",
   "execution_count": null,
   "id": "2bb565ff-743f-4570-8405-764e0c47733e",
   "metadata": {},
   "outputs": [],
   "source": []
  }
 ],
 "metadata": {
  "kernelspec": {
   "display_name": "Python 3 (ipykernel)",
   "language": "python",
   "name": "python3"
  },
  "language_info": {
   "codemirror_mode": {
    "name": "ipython",
    "version": 3
   },
   "file_extension": ".py",
   "mimetype": "text/x-python",
   "name": "python",
   "nbconvert_exporter": "python",
   "pygments_lexer": "ipython3",
   "version": "3.12.3"
  }
 },
 "nbformat": 4,
 "nbformat_minor": 5
}
